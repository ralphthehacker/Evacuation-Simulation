{
 "metadata": {
  "name": "",
  "signature": "sha256:beddf4318bb49b1aa18ad86e9fc5903ec5e57bf3377a980ee1c9c3946c35edc7"
 },
 "nbformat": 3,
 "nbformat_minor": 0,
 "worksheets": [
  {
   "cells": [
    {
     "cell_type": "code",
     "collapsed": false,
     "input": [
      "list = [4,5,6,2,1,6,5,2]\n",
      "list = sorted(list,reverse =True)\n",
      "print list"
     ],
     "language": "python",
     "metadata": {},
     "outputs": [
      {
       "output_type": "stream",
       "stream": "stdout",
       "text": [
        "[6, 6, 5, 5, 4, 2, 2, 1]\n"
       ]
      }
     ],
     "prompt_number": 2
    },
    {
     "cell_type": "code",
     "collapsed": false,
     "input": [],
     "language": "python",
     "metadata": {},
     "outputs": []
    }
   ],
   "metadata": {}
  }
 ]
}